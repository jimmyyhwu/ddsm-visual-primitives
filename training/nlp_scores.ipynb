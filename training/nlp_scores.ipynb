{
 "cells": [
  {
   "cell_type": "markdown",
   "metadata": {},
   "source": [
    "The score below are fully detailed in the following publication:\n",
    "\n",
    "Shikhar Sharma, Layla El Asri, Hannes Schulz, and Jeremie Zumer. \"Relevance of Unsupervised Metrics in Task-Oriented Dialogue for Evaluating Natural Language Generation\" arXiv preprint arXiv:1706.09799 (2017)"
   ]
  },
  {
   "cell_type": "code",
   "execution_count": 1,
   "metadata": {},
   "outputs": [],
   "source": [
    "import os, sys\n",
    "\n",
    "import matplotlib.pyplot as plt\n",
    "import numpy as np\n",
    "import joblib"
   ]
  },
  {
   "cell_type": "code",
   "execution_count": 2,
   "metadata": {},
   "outputs": [
    {
     "ename": "ModuleNotFoundError",
     "evalue": "No module named 'bleu_scorer'",
     "output_type": "error",
     "traceback": [
      "\u001b[0;31m---------------------------------------------------------------------------\u001b[0m",
      "\u001b[0;31mModuleNotFoundError\u001b[0m                       Traceback (most recent call last)",
      "\u001b[0;32m<ipython-input-2-b26be78dd3c6>\u001b[0m in \u001b[0;36m<module>\u001b[0;34m()\u001b[0m\n\u001b[1;32m      1\u001b[0m \u001b[0msys\u001b[0m\u001b[0;34m.\u001b[0m\u001b[0mpath\u001b[0m\u001b[0;34m.\u001b[0m\u001b[0mappend\u001b[0m\u001b[0;34m(\u001b[0m\u001b[0;34m'nlg-eval'\u001b[0m\u001b[0;34m)\u001b[0m\u001b[0;34m\u001b[0m\u001b[0m\n\u001b[0;32m----> 2\u001b[0;31m \u001b[0;32mfrom\u001b[0m \u001b[0mnlgeval\u001b[0m \u001b[0;32mimport\u001b[0m \u001b[0mcompute_individual_metrics\u001b[0m\u001b[0;34m\u001b[0m\u001b[0m\n\u001b[0m",
      "\u001b[0;32m~/donuts/mit_backup/nlg-eval/nlgeval/__init__.py\u001b[0m in \u001b[0;36m<module>\u001b[0;34m()\u001b[0m\n\u001b[1;32m      2\u001b[0m \u001b[0;31m# Licensed under the MIT license. See LICENSE.md file in the project root for full license information.\u001b[0m\u001b[0;34m\u001b[0m\u001b[0;34m\u001b[0m\u001b[0m\n\u001b[1;32m      3\u001b[0m \u001b[0;32mfrom\u001b[0m \u001b[0m__future__\u001b[0m \u001b[0;32mimport\u001b[0m \u001b[0mprint_function\u001b[0m\u001b[0;34m\u001b[0m\u001b[0m\n\u001b[0;32m----> 4\u001b[0;31m \u001b[0;32mfrom\u001b[0m \u001b[0mnlgeval\u001b[0m\u001b[0;34m.\u001b[0m\u001b[0mpycocoevalcap\u001b[0m\u001b[0;34m.\u001b[0m\u001b[0mbleu\u001b[0m\u001b[0;34m.\u001b[0m\u001b[0mbleu\u001b[0m \u001b[0;32mimport\u001b[0m \u001b[0mBleu\u001b[0m\u001b[0;34m\u001b[0m\u001b[0m\n\u001b[0m\u001b[1;32m      5\u001b[0m \u001b[0;32mfrom\u001b[0m \u001b[0mnlgeval\u001b[0m\u001b[0;34m.\u001b[0m\u001b[0mpycocoevalcap\u001b[0m\u001b[0;34m.\u001b[0m\u001b[0mmeteor\u001b[0m\u001b[0;34m.\u001b[0m\u001b[0mmeteor\u001b[0m \u001b[0;32mimport\u001b[0m \u001b[0mMeteor\u001b[0m\u001b[0;34m\u001b[0m\u001b[0m\n\u001b[1;32m      6\u001b[0m \u001b[0;32mfrom\u001b[0m \u001b[0mnlgeval\u001b[0m\u001b[0;34m.\u001b[0m\u001b[0mpycocoevalcap\u001b[0m\u001b[0;34m.\u001b[0m\u001b[0mrouge\u001b[0m\u001b[0;34m.\u001b[0m\u001b[0mrouge\u001b[0m \u001b[0;32mimport\u001b[0m \u001b[0mRouge\u001b[0m\u001b[0;34m\u001b[0m\u001b[0m\n",
      "\u001b[0;32m~/donuts/mit_backup/nlg-eval/nlgeval/pycocoevalcap/bleu/bleu.py\u001b[0m in \u001b[0;36m<module>\u001b[0;34m()\u001b[0m\n\u001b[1;32m      9\u001b[0m \u001b[0;31m# Authors : Hao Fang <hfang@uw.edu> and Tsung-Yi Lin <tl483@cornell.edu>\u001b[0m\u001b[0;34m\u001b[0m\u001b[0;34m\u001b[0m\u001b[0m\n\u001b[1;32m     10\u001b[0m \u001b[0;34m\u001b[0m\u001b[0m\n\u001b[0;32m---> 11\u001b[0;31m \u001b[0;32mfrom\u001b[0m \u001b[0mbleu_scorer\u001b[0m \u001b[0;32mimport\u001b[0m \u001b[0mBleuScorer\u001b[0m\u001b[0;34m\u001b[0m\u001b[0m\n\u001b[0m\u001b[1;32m     12\u001b[0m \u001b[0;34m\u001b[0m\u001b[0m\n\u001b[1;32m     13\u001b[0m \u001b[0;34m\u001b[0m\u001b[0m\n",
      "\u001b[0;31mModuleNotFoundError\u001b[0m: No module named 'bleu_scorer'"
     ]
    }
   ],
   "source": [
    "sys.path.append('nlg-eval')\n",
    "from nlgeval import compute_individual_metrics"
   ]
  },
  {
   "cell_type": "code",
   "execution_count": 4,
   "metadata": {},
   "outputs": [],
   "source": [
    "predicted_reports = joblib.load('predicted_reports_val.jbl')"
   ]
  },
  {
   "cell_type": "code",
   "execution_count": 7,
   "metadata": {},
   "outputs": [],
   "source": [
    "# This notebook takes ages to run, this is precomputed cache\n",
    "metrics = joblib.load('predicted_reports_w2v_scores_val.jbl' )"
   ]
  },
  {
   "cell_type": "code",
   "execution_count": 5,
   "metadata": {},
   "outputs": [],
   "source": [
    "def avg_scores(metrics):\n",
    "    avg = metrics.values()[0]\n",
    "    for key, val in metrics.items()[1:]:\n",
    "        for idx, item in enumerate(val):\n",
    "            for key2 in item.keys():\n",
    "                avg[idx][key2] += item[key2]\n",
    "    for idx2, score_set in enumerate(avg):\n",
    "        for key3 in score_set.keys():\n",
    "            avg[idx2][key3] = score_set[key3]/len(metrics.keys())\n",
    "    return avg"
   ]
  },
  {
   "cell_type": "code",
   "execution_count": null,
   "metadata": {
    "scrolled": true
   },
   "outputs": [
    {
     "name": "stdout",
     "output_type": "stream",
     "text": [
      "Error! ['LESION_TYPE MASS SHAPE OVAL MARGINS OBSCURED'], ['Calcified vessels', 'Masses with \"lumpy\" calcifications, with calcs large enough that they are probably benign.', 'Masses', 'Masses with spiculations, suspicious for breast cancer', 'Calcifications and Masses', 'Calcifications', 'Calcified vessels', 'Either suspicious arrangements of microcalcs or masses that often have spiculations']\n",
      "Scored Reports 0 / 374\n",
      "[{'EmbeddingAverageCosineSimilairty': 0.092963, 'GreedyMatchingScore': 0.701579, 'VectorExtremaCosineSimilarity': -0.109859}, {'EmbeddingAverageCosineSimilairty': -0.673339, 'GreedyMatchingScore': 0.433078, 'VectorExtremaCosineSimilarity': -0.366288}, {'EmbeddingAverageCosineSimilairty': -0.638643, 'GreedyMatchingScore': 0.47723, 'VectorExtremaCosineSimilarity': -0.368261}, {'EmbeddingAverageCosineSimilairty': -0.638643, 'GreedyMatchingScore': 0.47723, 'VectorExtremaCosineSimilarity': -0.368261}]\n",
      "\n"
     ]
    }
   ],
   "source": [
    "metrics = {}\n",
    "for ind, image_name in enumerate(predicted_reports.keys()):\n",
    "    metrics[image_name] = []\n",
    "    for gt, pred in predicted_reports[image_name]:\n",
    "        try:\n",
    "            metrics_dict = compute_individual_metrics(' '.join(gt), ' '+' '.join(pred), no_overlap=True,\n",
    "                                                      no_skipthoughts=True, no_glove=False)\n",
    "        except:\n",
    "            print 'Error! {}, {}'.format(gt, pred)\n",
    "        metrics[image_name].append(metrics_dict)\n",
    "        \n",
    "    if ind%10 == 0:\n",
    "        print 'Scored Reports {} / {}'.format(ind, len(predicted_reports.keys()))\n",
    "        print avg_scores(metrics)\n",
    "        print ''"
   ]
  },
  {
   "cell_type": "code",
   "execution_count": 6,
   "metadata": {
    "scrolled": true
   },
   "outputs": [
    {
     "data": {
      "text/plain": [
       "['predicted_reports_w2v_scores_val.jbl']"
      ]
     },
     "execution_count": 6,
     "metadata": {},
     "output_type": "execute_result"
    }
   ],
   "source": [
    "#joblib.dump(metrics, 'predicted_reports_w2v_scores_val.jbl' )"
   ]
  },
  {
   "cell_type": "code",
   "execution_count": 18,
   "metadata": {},
   "outputs": [
    {
     "name": "stdout",
     "output_type": "stream",
     "text": [
      "Scored Reports 0 / 374\n",
      "[{'EmbeddingAverageCosineSimilairty': 0.192094, 'GreedyMatchingScore': 0.715056, 'VectorExtremaCosineSimilarity': -0.568428}, {'EmbeddingAverageCosineSimilairty': -0.670458, 'GreedyMatchingScore': 0.450595, 'VectorExtremaCosineSimilarity': -0.407189}, {'EmbeddingAverageCosineSimilairty': -0.53774, 'GreedyMatchingScore': 0.521801, 'VectorExtremaCosineSimilarity': -0.285557}, {'EmbeddingAverageCosineSimilairty': -0.467564, 'GreedyMatchingScore': 0.553291, 'VectorExtremaCosineSimilarity': -0.249612}]\n",
      "\n",
      "Error! ['LESION_TYPE CALCIFICATION TYPE PLEOMORPHIC DISTRIBUTION CLUSTERED', 'LESION_TYPE CALCIFICATION TYPE PLEOMORPHIC DISTRIBUTION CLUSTERED'], []\n",
      "Error! ['LESION_TYPE MASS SHAPE OVAL MARGINS OBSCURED-ILL_DEFINED'], []\n",
      "Error! ['LESION_TYPE MASS SHAPE OVAL MARGINS CIRCUMSCRIBED'], []\n",
      "Scored Reports 10 / 374\n",
      "[{'EmbeddingAverageCosineSimilairty': -0.32812309090909086, 'GreedyMatchingScore': 0.5010393636363637, 'VectorExtremaCosineSimilarity': -0.38248800000000005}, {'EmbeddingAverageCosineSimilairty': -0.24771790909090904, 'GreedyMatchingScore': 0.561931090909091, 'VectorExtremaCosineSimilarity': -0.401709}, {'EmbeddingAverageCosineSimilairty': -0.4923222727272728, 'GreedyMatchingScore': 0.5223398181818181, 'VectorExtremaCosineSimilarity': -0.31980654545454545}, {'EmbeddingAverageCosineSimilairty': -0.4888357272727272, 'GreedyMatchingScore': 0.5540932727272726, 'VectorExtremaCosineSimilarity': -0.30046145454545453}]\n",
      "\n",
      "Error! ['LESION_TYPE CALCIFICATION TYPE PLEOMORPHIC DISTRIBUTION LINEAR'], []\n",
      "Scored Reports 20 / 374\n",
      "[{'EmbeddingAverageCosineSimilairty': -0.07198680086580088, 'GreedyMatchingScore': 0.6046056017316017, 'VectorExtremaCosineSimilarity': -0.29277854545454546}, {'EmbeddingAverageCosineSimilairty': -0.19436523376623377, 'GreedyMatchingScore': 0.5873265281385281, 'VectorExtremaCosineSimilarity': -0.3944466666666667}, {'EmbeddingAverageCosineSimilairty': -0.42123877489177486, 'GreedyMatchingScore': 0.5432722770562771, 'VectorExtremaCosineSimilarity': -0.34326450216450216}, {'EmbeddingAverageCosineSimilairty': -0.44516717748917745, 'GreedyMatchingScore': 0.5639288701298701, 'VectorExtremaCosineSimilarity': -0.31630459307359304}]\n",
      "\n",
      "Scored Reports 30 / 374\n",
      "[{'EmbeddingAverageCosineSimilairty': -0.053612999301773503, 'GreedyMatchingScore': 0.6155647894148861, 'VectorExtremaCosineSimilarity': -0.2599888431783271}, {'EmbeddingAverageCosineSimilairty': -0.22303868496020113, 'GreedyMatchingScore': 0.5860849525205978, 'VectorExtremaCosineSimilarity': -0.30451934408602155}, {'EmbeddingAverageCosineSimilairty': -0.4048836378997347, 'GreedyMatchingScore': 0.5482261702276218, 'VectorExtremaCosineSimilarity': -0.34990533877950014}, {'EmbeddingAverageCosineSimilairty': -0.4192498121770702, 'GreedyMatchingScore': 0.5666638345203185, 'VectorExtremaCosineSimilarity': -0.3084661481636643}]\n",
      "\n",
      "Error! ['LESION_TYPE CALCIFICATION TYPE FINE_LINEAR_BRANCHING DISTRIBUTION LINEAR'], []\n",
      "Scored Reports 40 / 374\n",
      "[{'EmbeddingAverageCosineSimilairty': 0.0037101997200281976, 'GreedyMatchingScore': 0.6422742835106147, 'VectorExtremaCosineSimilarity': -0.255578048569317}, {'EmbeddingAverageCosineSimilairty': -0.2554667240234195, 'GreedyMatchingScore': 0.5752993403053804, 'VectorExtremaCosineSimilarity': -0.3241077644899031}, {'EmbeddingAverageCosineSimilairty': -0.42521006433901803, 'GreedyMatchingScore': 0.5406297114689662, 'VectorExtremaCosineSimilarity': -0.35054822777510974}, {'EmbeddingAverageCosineSimilairty': -0.43347767834578216, 'GreedyMatchingScore': 0.563804069134642, 'VectorExtremaCosineSimilarity': -0.31408995483326013}]\n",
      "\n",
      "Error! ['LESION_TYPE CALCIFICATION TYPE ROUND_AND_REGULAR-EGGSHELL DISTRIBUTION N/A', 'LESION_TYPE CALCIFICATION TYPE ROUND_AND_REGULAR-EGGSHELL DISTRIBUTION N/A', 'LESION_TYPE CALCIFICATION TYPE ROUND_AND_REGULAR-EGGSHELL DISTRIBUTION N/A', 'LESION_TYPE CALCIFICATION TYPE ROUND_AND_REGULAR-EGGSHELL DISTRIBUTION N/A', 'LESION_TYPE CALCIFICATION TYPE ROUND_AND_REGULAR-EGGSHELL DISTRIBUTION N/A', 'LESION_TYPE CALCIFICATION TYPE ROUND_AND_REGULAR-EGGSHELL DISTRIBUTION N/A'], []\n",
      "Error! ['LESION_TYPE CALCIFICATION TYPE PLEOMORPHIC DISTRIBUTION CLUSTERED'], []\n",
      "Scored Reports 50 / 374\n",
      "[{'EmbeddingAverageCosineSimilairty': -0.012228793698544196, 'GreedyMatchingScore': 0.6403666735812794, 'VectorExtremaCosineSimilarity': -0.2686619216353448}, {'EmbeddingAverageCosineSimilairty': -0.29194642596124354, 'GreedyMatchingScore': 0.5657795164765762, 'VectorExtremaCosineSimilarity': -0.3300761718527433}, {'EmbeddingAverageCosineSimilairty': -0.4241429228301769, 'GreedyMatchingScore': 0.5423442688523327, 'VectorExtremaCosineSimilarity': -0.35371988681911976}, {'EmbeddingAverageCosineSimilairty': -0.4332073466342312, 'GreedyMatchingScore': 0.565475962139895, 'VectorExtremaCosineSimilarity': -0.3173160579379072}]\n",
      "\n",
      "Scored Reports 60 / 374\n",
      "[{'EmbeddingAverageCosineSimilairty': 0.03425237258484756, 'GreedyMatchingScore': 0.6576798201020743, 'VectorExtremaCosineSimilarity': -0.28763340860717923}, {'EmbeddingAverageCosineSimilairty': -0.3042198877046667, 'GreedyMatchingScore': 0.561230882898065, 'VectorExtremaCosineSimilarity': -0.34295824485807613}, {'EmbeddingAverageCosineSimilairty': -0.44794306536342937, 'GreedyMatchingScore': 0.5361601144314967, 'VectorExtremaCosineSimilarity': -0.3552721985999054}, {'EmbeddingAverageCosineSimilairty': -0.42624145942590197, 'GreedyMatchingScore': 0.5680050169061399, 'VectorExtremaCosineSimilarity': -0.3150195739798552}]\n",
      "\n",
      "Scored Reports 70 / 374\n",
      "[{'EmbeddingAverageCosineSimilairty': 0.029611984421959066, 'GreedyMatchingScore': 0.6569806644048917, 'VectorExtremaCosineSimilarity': -0.28896069594379953}, {'EmbeddingAverageCosineSimilairty': -0.29756269875673363, 'GreedyMatchingScore': 0.5653510594817385, 'VectorExtremaCosineSimilarity': -0.34655784520208405}, {'EmbeddingAverageCosineSimilairty': -0.41775400182679506, 'GreedyMatchingScore': 0.5445272088154998, 'VectorExtremaCosineSimilarity': -0.3538085412165494}, {'EmbeddingAverageCosineSimilairty': -0.42756250898269993, 'GreedyMatchingScore': 0.5671783110709971, 'VectorExtremaCosineSimilarity': -0.316210669419903}]\n",
      "\n",
      "Error! ['LESION_TYPE CALCIFICATION TYPE PLEOMORPHIC DISTRIBUTION CLUSTERED'], []\n",
      "Error! ['LESION_TYPE CALCIFICATION TYPE PLEOMORPHIC DISTRIBUTION SEGMENTAL'], []\n",
      "Scored Reports 80 / 374\n",
      "[{'EmbeddingAverageCosineSimilairty': 0.02319785809624945, 'GreedyMatchingScore': 0.6511741360129643, 'VectorExtremaCosineSimilarity': -0.30237704567094303}, {'EmbeddingAverageCosineSimilairty': -0.2968364743553105, 'GreedyMatchingScore': 0.564992572836878, 'VectorExtremaCosineSimilarity': -0.34716309394681455}, {'EmbeddingAverageCosineSimilairty': -0.4144063711872322, 'GreedyMatchingScore': 0.545432986670179, 'VectorExtremaCosineSimilarity': -0.3520967008517487}, {'EmbeddingAverageCosineSimilairty': -0.4229413479917099, 'GreedyMatchingScore': 0.568362226916119, 'VectorExtremaCosineSimilarity': -0.3150992916574465}]\n",
      "\n",
      "Scored Reports 90 / 374\n",
      "[{'EmbeddingAverageCosineSimilairty': -0.014646292704478533, 'GreedyMatchingScore': 0.6370150346490445, 'VectorExtremaCosineSimilarity': -0.31371719500019063}, {'EmbeddingAverageCosineSimilairty': -0.3205957790894006, 'GreedyMatchingScore': 0.5586341645343297, 'VectorExtremaCosineSimilarity': -0.3495756670729538}, {'EmbeddingAverageCosineSimilairty': -0.42255257623464865, 'GreedyMatchingScore': 0.543353581395106, 'VectorExtremaCosineSimilarity': -0.3517466864817956}, {'EmbeddingAverageCosineSimilairty': -0.42961724764088133, 'GreedyMatchingScore': 0.5672679297485912, 'VectorExtremaCosineSimilarity': -0.31546128479022645}]\n",
      "\n",
      "Error! ['LESION_TYPE CALCIFICATION TYPE PLEOMORPHIC DISTRIBUTION SEGMENTAL'], []\n",
      "Scored Reports 100 / 374\n",
      "[{'EmbeddingAverageCosineSimilairty': -0.011188464641703207, 'GreedyMatchingScore': 0.6395903879971493, 'VectorExtremaCosineSimilarity': -0.3279096330694805}, {'EmbeddingAverageCosineSimilairty': -0.31980259085371143, 'GreedyMatchingScore': 0.5580877439322608, 'VectorExtremaCosineSimilarity': -0.3534123304030864}, {'EmbeddingAverageCosineSimilairty': -0.43043808924344246, 'GreedyMatchingScore': 0.5405449751321757, 'VectorExtremaCosineSimilarity': -0.3500322193695562}, {'EmbeddingAverageCosineSimilairty': -0.42671618596991184, 'GreedyMatchingScore': 0.5667883320482215, 'VectorExtremaCosineSimilarity': -0.3135385168386221}]\n",
      "\n"
     ]
    },
    {
     "name": "stdout",
     "output_type": "stream",
     "text": [
      "Scored Reports 110 / 374\n",
      "[{'EmbeddingAverageCosineSimilairty': -0.01817999189864188, 'GreedyMatchingScore': 0.6360856625320739, 'VectorExtremaCosineSimilarity': -0.32964599439717845}, {'EmbeddingAverageCosineSimilairty': -0.33718495935125403, 'GreedyMatchingScore': 0.5520791505996061, 'VectorExtremaCosineSimilarity': -0.3558807930994761}, {'EmbeddingAverageCosineSimilairty': -0.4473140948342025, 'GreedyMatchingScore': 0.5363046385773588, 'VectorExtremaCosineSimilarity': -0.34972833053345004}, {'EmbeddingAverageCosineSimilairty': -0.43588788037198306, 'GreedyMatchingScore': 0.5645955309835134, 'VectorExtremaCosineSimilarity': -0.3150768147094524}]\n",
      "\n",
      "Error! ['LESION_TYPE CALCIFICATION TYPE COARSE-ROUND_AND_REGULAR DISTRIBUTION N/A'], []\n",
      "Error! ['LESION_TYPE CALCIFICATION TYPE COARSE-ROUND_AND_REGULAR DISTRIBUTION N/A'], []\n",
      "Error! ['LESION_TYPE CALCIFICATION TYPE PLEOMORPHIC DISTRIBUTION CLUSTERED'], []\n",
      "Scored Reports 120 / 374\n",
      "[{'EmbeddingAverageCosineSimilairty': -0.010163591966993292, 'GreedyMatchingScore': 0.6405969654181416, 'VectorExtremaCosineSimilarity': -0.30162803916871495}, {'EmbeddingAverageCosineSimilairty': -0.31405047815278286, 'GreedyMatchingScore': 0.5590877200266414, 'VectorExtremaCosineSimilarity': -0.35765140906395243}, {'EmbeddingAverageCosineSimilairty': -0.42332054985278705, 'GreedyMatchingScore': 0.5432898392192729, 'VectorExtremaCosineSimilarity': -0.3532089322345195}, {'EmbeddingAverageCosineSimilairty': -0.4311233918652248, 'GreedyMatchingScore': 0.5654460507281428, 'VectorExtremaCosineSimilarity': -0.3156074027323971}]\n",
      "\n",
      "Error! ['LESION_TYPE MASS SHAPE ROUND MARGINS CIRCUMSCRIBED', 'LESION_TYPE CALCIFICATION TYPE PLEOMORPHIC DISTRIBUTION CLUSTERED', 'LESION_TYPE CALCIFICATION TYPE PLEOMORPHIC DISTRIBUTION CLUSTERED'], []\n",
      "Error! ['LESION_TYPE MASS SHAPE IRREGULAR MARGINS SPICULATED'], []\n",
      "Error! ['LESION_TYPE CALCIFICATION TYPE PLEOMORPHIC DISTRIBUTION CLUSTERED'], []\n",
      "Error! ['LESION_TYPE MASS SHAPE IRREGULAR MARGINS SPICULATED'], []\n",
      "Scored Reports 130 / 374\n",
      "[{'EmbeddingAverageCosineSimilairty': -0.03550929945095068, 'GreedyMatchingScore': 0.6334873749502382, 'VectorExtremaCosineSimilarity': -0.30692129606248875}, {'EmbeddingAverageCosineSimilairty': -0.3098762700403684, 'GreedyMatchingScore': 0.5610599594858827, 'VectorExtremaCosineSimilarity': -0.3617338634557459}, {'EmbeddingAverageCosineSimilairty': -0.42175848845195285, 'GreedyMatchingScore': 0.5435950362303354, 'VectorExtremaCosineSimilarity': -0.35381615574105285}, {'EmbeddingAverageCosineSimilairty': -0.43845203761210266, 'GreedyMatchingScore': 0.5627302950980907, 'VectorExtremaCosineSimilarity': -0.3145111627377328}]\n",
      "\n",
      "Scored Reports 140 / 374\n",
      "[{'EmbeddingAverageCosineSimilairty': -0.04147248890467022, 'GreedyMatchingScore': 0.632000266156123, 'VectorExtremaCosineSimilarity': -0.316377440007658}, {'EmbeddingAverageCosineSimilairty': -0.32147328487358745, 'GreedyMatchingScore': 0.5572043044830488, 'VectorExtremaCosineSimilarity': -0.3641080040219469}, {'EmbeddingAverageCosineSimilairty': -0.42633044628230476, 'GreedyMatchingScore': 0.5431377513701064, 'VectorExtremaCosineSimilarity': -0.3550129051459891}, {'EmbeddingAverageCosineSimilairty': -0.4349359047725696, 'GreedyMatchingScore': 0.5638526163278001, 'VectorExtremaCosineSimilarity': -0.3149472913379313}]\n",
      "\n",
      "Error! ['LESION_TYPE CALCIFICATION TYPE PLEOMORPHIC DISTRIBUTION CLUSTERED'], []\n",
      "Error! ['LESION_TYPE CALCIFICATION TYPE PUNCTATE DISTRIBUTION CLUSTERED'], []\n",
      "Error! ['LESION_TYPE CALCIFICATION TYPE COARSE-ROUND_AND_REGULAR-LUCENT_CENTER DISTRIBUTION N/A', 'LESION_TYPE CALCIFICATION TYPE COARSE-ROUND_AND_REGULAR-LUCENT_CENTER DISTRIBUTION N/A', 'LESION_TYPE CALCIFICATION TYPE COARSE-ROUND_AND_REGULAR-LUCENT_CENTER DISTRIBUTION N/A'], []\n",
      "Scored Reports 150 / 374\n",
      "[{'EmbeddingAverageCosineSimilairty': -0.05293876903981602, 'GreedyMatchingScore': 0.629107161716684, 'VectorExtremaCosineSimilarity': -0.3259541336756618}, {'EmbeddingAverageCosineSimilairty': -0.3329119879603248, 'GreedyMatchingScore': 0.5528476044841526, 'VectorExtremaCosineSimilarity': -0.3655765543553689}, {'EmbeddingAverageCosineSimilairty': -0.43229354889824717, 'GreedyMatchingScore': 0.5414026931014885, 'VectorExtremaCosineSimilarity': -0.3544545852648305}, {'EmbeddingAverageCosineSimilairty': -0.4333136055635281, 'GreedyMatchingScore': 0.5642152465129108, 'VectorExtremaCosineSimilarity': -0.31490646494866564}]\n",
      "\n",
      "Error! ['LESION_TYPE CALCIFICATION TYPE PLEOMORPHIC DISTRIBUTION CLUSTERED'], []\n",
      "Scored Reports 160 / 374\n",
      "[{'EmbeddingAverageCosineSimilairty': -0.06529467332389666, 'GreedyMatchingScore': 0.6208818839427321, 'VectorExtremaCosineSimilarity': -0.3267373470726269}, {'EmbeddingAverageCosineSimilairty': -0.33363242164655765, 'GreedyMatchingScore': 0.5513671029634049, 'VectorExtremaCosineSimilarity': -0.3654070699254293}, {'EmbeddingAverageCosineSimilairty': -0.4383638508462811, 'GreedyMatchingScore': 0.5396165813668086, 'VectorExtremaCosineSimilarity': -0.354030938230486}, {'EmbeddingAverageCosineSimilairty': -0.43435274621666875, 'GreedyMatchingScore': 0.5636417941219545, 'VectorExtremaCosineSimilarity': -0.31526674149602013}]\n",
      "\n",
      "Scored Reports 180 / 374\n",
      "[{'EmbeddingAverageCosineSimilairty': -0.07245097515698433, 'GreedyMatchingScore': 0.6197719101551105, 'VectorExtremaCosineSimilarity': -0.34123718983199364}, {'EmbeddingAverageCosineSimilairty': -0.3592533685092224, 'GreedyMatchingScore': 0.5428866965976636, 'VectorExtremaCosineSimilarity': -0.3658819686955443}, {'EmbeddingAverageCosineSimilairty': -0.45073689593472166, 'GreedyMatchingScore': 0.5359334089230582, 'VectorExtremaCosineSimilarity': -0.35436551855356185}, {'EmbeddingAverageCosineSimilairty': -0.4444598082395168, 'GreedyMatchingScore': 0.5600900854970459, 'VectorExtremaCosineSimilarity': -0.3149179006907084}]\n",
      "\n",
      "Error! ['LESION_TYPE MASS SHAPE IRREGULAR MARGINS SPICULATED'], []\n",
      "Scored Reports 190 / 374\n",
      "[{'EmbeddingAverageCosineSimilairty': -0.058942118383583986, 'GreedyMatchingScore': 0.625344822320515, 'VectorExtremaCosineSimilarity': -0.3387306384023519}, {'EmbeddingAverageCosineSimilairty': -0.35921838882536467, 'GreedyMatchingScore': 0.5428521134514221, 'VectorExtremaCosineSimilarity': -0.3666095113734781}, {'EmbeddingAverageCosineSimilairty': -0.45173954624758, 'GreedyMatchingScore': 0.5357757922297264, 'VectorExtremaCosineSimilarity': -0.3547652512481516}, {'EmbeddingAverageCosineSimilairty': -0.44824109603957935, 'GreedyMatchingScore': 0.5594804224744439, 'VectorExtremaCosineSimilarity': -0.31484145453717943}]\n",
      "\n",
      "Error! ['LESION_TYPE CALCIFICATION TYPE FINE_LINEAR_BRANCHING DISTRIBUTION LINEAR'], []\n",
      "Error! ['LESION_TYPE CALCIFICATION TYPE PLEOMORPHIC DISTRIBUTION CLUSTERED'], []\n",
      "Error! ['LESION_TYPE CALCIFICATION TYPE COARSE-ROUND_AND_REGULAR DISTRIBUTION N/A'], []\n",
      "Error! ['LESION_TYPE MASS SHAPE OVAL MARGINS SPICULATED'], []\n",
      "Scored Reports 200 / 374\n",
      "[{'EmbeddingAverageCosineSimilairty': -0.06364974007209517, 'GreedyMatchingScore': 0.6256853978874816, 'VectorExtremaCosineSimilarity': -0.34238150937024653}, {'EmbeddingAverageCosineSimilairty': -0.3496885884873671, 'GreedyMatchingScore': 0.5458263685874397, 'VectorExtremaCosineSimilarity': -0.3694596876368769}, {'EmbeddingAverageCosineSimilairty': -0.43531560190846097, 'GreedyMatchingScore': 0.5395289686526586, 'VectorExtremaCosineSimilarity': -0.35560615781637583}, {'EmbeddingAverageCosineSimilairty': -0.43600155040477456, 'GreedyMatchingScore': 0.5622806220377918, 'VectorExtremaCosineSimilarity': -0.3161578426390435}]\n",
      "\n",
      "Error! ['LESION_TYPE MASS SHAPE OVAL MARGINS ILL_DEFINED'], []\n",
      "Scored Reports 210 / 374\n",
      "[{'EmbeddingAverageCosineSimilairty': -0.05454119609563812, 'GreedyMatchingScore': 0.6287078509523736, 'VectorExtremaCosineSimilarity': -0.3494047215847746}, {'EmbeddingAverageCosineSimilairty': -0.35428358997925496, 'GreedyMatchingScore': 0.5447486035128503, 'VectorExtremaCosineSimilarity': -0.36898527199656705}, {'EmbeddingAverageCosineSimilairty': -0.44072445042304037, 'GreedyMatchingScore': 0.5381296960929257, 'VectorExtremaCosineSimilarity': -0.3547199034486243}, {'EmbeddingAverageCosineSimilairty': -0.4394944932972743, 'GreedyMatchingScore': 0.5616563849723198, 'VectorExtremaCosineSimilarity': -0.31575343013530616}]\n",
      "\n"
     ]
    },
    {
     "name": "stdout",
     "output_type": "stream",
     "text": [
      "Error! ['LESION_TYPE CALCIFICATION TYPE PLEOMORPHIC DISTRIBUTION CLUSTERED'], []\n",
      "Scored Reports 220 / 374\n",
      "[{'EmbeddingAverageCosineSimilairty': -0.05733378657105514, 'GreedyMatchingScore': 0.6277279411946414, 'VectorExtremaCosineSimilarity': -0.34860926002987314}, {'EmbeddingAverageCosineSimilairty': -0.35709174428558677, 'GreedyMatchingScore': 0.544281821611479, 'VectorExtremaCosineSimilarity': -0.3644835428761779}, {'EmbeddingAverageCosineSimilairty': -0.44042913976369275, 'GreedyMatchingScore': 0.5382945954889031, 'VectorExtremaCosineSimilarity': -0.3489532550827692}, {'EmbeddingAverageCosineSimilairty': -0.43925621279917376, 'GreedyMatchingScore': 0.5615192895569867, 'VectorExtremaCosineSimilarity': -0.3160340106155923}]\n",
      "\n",
      "Error! ['LESION_TYPE MASS SHAPE OVAL MARGINS OBSCURED'], []\n",
      "Error! ['LESION_TYPE MASS SHAPE OVAL MARGINS CIRCUMSCRIBED'], []\n",
      "Scored Reports 230 / 374\n",
      "[{'EmbeddingAverageCosineSimilairty': -0.06031046936224502, 'GreedyMatchingScore': 0.6272485631786062, 'VectorExtremaCosineSimilarity': -0.35252914287899156}, {'EmbeddingAverageCosineSimilairty': -0.36270379065550234, 'GreedyMatchingScore': 0.5428437393689847, 'VectorExtremaCosineSimilarity': -0.3651470183831815}, {'EmbeddingAverageCosineSimilairty': -0.4417005739269124, 'GreedyMatchingScore': 0.5377806168936952, 'VectorExtremaCosineSimilarity': -0.34872421958842476}, {'EmbeddingAverageCosineSimilairty': -0.4396116828922914, 'GreedyMatchingScore': 0.5614916056133277, 'VectorExtremaCosineSimilarity': -0.3152915105044423}]\n",
      "\n",
      "Error! ['LESION_TYPE CALCIFICATION TYPE PLEOMORPHIC DISTRIBUTION SEGMENTAL'], []\n",
      "Scored Reports 240 / 374\n",
      "[{'EmbeddingAverageCosineSimilairty': -0.060566859358795806, 'GreedyMatchingScore': 0.6271887415611703, 'VectorExtremaCosineSimilarity': -0.3549354352194862}, {'EmbeddingAverageCosineSimilairty': -0.3648125713186346, 'GreedyMatchingScore': 0.5418686212115894, 'VectorExtremaCosineSimilarity': -0.36293077892955156}, {'EmbeddingAverageCosineSimilairty': -0.4390986597978422, 'GreedyMatchingScore': 0.5379573922151384, 'VectorExtremaCosineSimilarity': -0.34667357962419826}, {'EmbeddingAverageCosineSimilairty': -0.43797687227474036, 'GreedyMatchingScore': 0.5617994656130083, 'VectorExtremaCosineSimilarity': -0.3147126366241287}]\n",
      "\n",
      "Scored Reports 250 / 374\n",
      "[{'EmbeddingAverageCosineSimilairty': -0.06122700595803322, 'GreedyMatchingScore': 0.6266407047594605, 'VectorExtremaCosineSimilarity': -0.35421263418420984}, {'EmbeddingAverageCosineSimilairty': -0.3740981014679445, 'GreedyMatchingScore': 0.5390866119276321, 'VectorExtremaCosineSimilarity': -0.3639352768229812}, {'EmbeddingAverageCosineSimilairty': -0.4469591756858602, 'GreedyMatchingScore': 0.5358618378452981, 'VectorExtremaCosineSimilarity': -0.347244310954054}, {'EmbeddingAverageCosineSimilairty': -0.4412830613848402, 'GreedyMatchingScore': 0.5610719445128871, 'VectorExtremaCosineSimilarity': -0.3153749384563134}]\n",
      "\n",
      "Scored Reports 260 / 374\n",
      "[{'EmbeddingAverageCosineSimilairty': -0.05873840475887192, 'GreedyMatchingScore': 0.6256977274246088, 'VectorExtremaCosineSimilarity': -0.3576346374682045}, {'EmbeddingAverageCosineSimilairty': -0.3798390383088252, 'GreedyMatchingScore': 0.5372791823162902, 'VectorExtremaCosineSimilarity': -0.3648934443695851}, {'EmbeddingAverageCosineSimilairty': -0.4490058912376971, 'GreedyMatchingScore': 0.5355155545777778, 'VectorExtremaCosineSimilarity': -0.3475648114206798}, {'EmbeddingAverageCosineSimilairty': -0.4403604543935058, 'GreedyMatchingScore': 0.5610236534545384, 'VectorExtremaCosineSimilarity': -0.3144433749209459}]\n",
      "\n",
      "Error! ['LESION_TYPE MASS SHAPE LOBULATED MARGINS ILL_DEFINED'], []\n",
      "Error! ['LESION_TYPE MASS SHAPE IRREGULAR MARGINS SPICULATED', 'LESION_TYPE MASS SHAPE IRREGULAR MARGINS ILL_DEFINED'], []\n",
      "Scored Reports 270 / 374\n",
      "[{'EmbeddingAverageCosineSimilairty': -0.05248011454194248, 'GreedyMatchingScore': 0.6285731877508786, 'VectorExtremaCosineSimilarity': -0.3540360309316803}, {'EmbeddingAverageCosineSimilairty': -0.3668641658134474, 'GreedyMatchingScore': 0.5390970079518098, 'VectorExtremaCosineSimilarity': -0.36597152822143286}, {'EmbeddingAverageCosineSimilairty': -0.4497393074855747, 'GreedyMatchingScore': 0.5352762231052859, 'VectorExtremaCosineSimilarity': -0.34678096044746887}, {'EmbeddingAverageCosineSimilairty': -0.44178958667791024, 'GreedyMatchingScore': 0.5605756319578454, 'VectorExtremaCosineSimilarity': -0.3132926837300056}]\n",
      "\n",
      "Error! ['LESION_TYPE MASS SHAPE OVAL MARGINS ILL_DEFINED'], []\n",
      "Scored Reports 280 / 374\n",
      "[{'EmbeddingAverageCosineSimilairty': -0.04957261832971346, 'GreedyMatchingScore': 0.6296742503231828, 'VectorExtremaCosineSimilarity': -0.35225901343754024}, {'EmbeddingAverageCosineSimilairty': -0.3718619183734835, 'GreedyMatchingScore': 0.5375335622084557, 'VectorExtremaCosineSimilarity': -0.36600565207067676}, {'EmbeddingAverageCosineSimilairty': -0.4536867179531624, 'GreedyMatchingScore': 0.5341502139859786, 'VectorExtremaCosineSimilarity': -0.34551488409356174}, {'EmbeddingAverageCosineSimilairty': -0.4427704523914524, 'GreedyMatchingScore': 0.5604960827013503, 'VectorExtremaCosineSimilarity': -0.3130904256214966}]\n",
      "\n",
      "Error! ['LESION_TYPE CALCIFICATION TYPE VASCULAR DISTRIBUTION N/A'], []\n",
      "Error! ['LESION_TYPE MASS SHAPE OVAL MARGINS ILL_DEFINED', 'LESION_TYPE MASS SHAPE OVAL MARGINS ILL_DEFINED'], []\n",
      "Scored Reports 290 / 374\n",
      "[{'EmbeddingAverageCosineSimilairty': -0.04852668128672596, 'GreedyMatchingScore': 0.6304129807676518, 'VectorExtremaCosineSimilarity': -0.3516421950462359}, {'EmbeddingAverageCosineSimilairty': -0.3613697450704773, 'GreedyMatchingScore': 0.540078232078463, 'VectorExtremaCosineSimilarity': -0.36566408713302206}, {'EmbeddingAverageCosineSimilairty': -0.4513912170285439, 'GreedyMatchingScore': 0.5347612615839885, 'VectorExtremaCosineSimilarity': -0.3451433929688555}, {'EmbeddingAverageCosineSimilairty': -0.4440029621570848, 'GreedyMatchingScore': 0.5603322875938935, 'VectorExtremaCosineSimilarity': -0.3126706197303506}]\n",
      "\n",
      "Error! ['LESION_TYPE MASS SHAPE OVAL MARGINS ILL_DEFINED'], []\n",
      "Error! ['LESION_TYPE CALCIFICATION TYPE PLEOMORPHIC DISTRIBUTION CLUSTERED-LINEAR'], []\n",
      "Error! ['LESION_TYPE CALCIFICATION TYPE PLEOMORPHIC DISTRIBUTION LINEAR'], []\n",
      "Scored Reports 300 / 374\n",
      "[{'EmbeddingAverageCosineSimilairty': -0.05737193460928321, 'GreedyMatchingScore': 0.6279964755276783, 'VectorExtremaCosineSimilarity': -0.352944491495227}, {'EmbeddingAverageCosineSimilairty': -0.35461433103722884, 'GreedyMatchingScore': 0.5422867016767531, 'VectorExtremaCosineSimilarity': -0.36579184980322854}, {'EmbeddingAverageCosineSimilairty': -0.44863985599462364, 'GreedyMatchingScore': 0.5360111002277032, 'VectorExtremaCosineSimilarity': -0.3455069198100074}, {'EmbeddingAverageCosineSimilairty': -0.4413675996593928, 'GreedyMatchingScore': 0.5609743518096861, 'VectorExtremaCosineSimilarity': -0.31330982569980365}]\n",
      "\n",
      "Scored Reports 310 / 374\n",
      "[{'EmbeddingAverageCosineSimilairty': -0.06853765778365524, 'GreedyMatchingScore': 0.6233710309601005, 'VectorExtremaCosineSimilarity': -0.35635238339714564}, {'EmbeddingAverageCosineSimilairty': -0.3618210328880149, 'GreedyMatchingScore': 0.5401848188884275, 'VectorExtremaCosineSimilarity': -0.3658395902039936}, {'EmbeddingAverageCosineSimilairty': -0.4536013096249122, 'GreedyMatchingScore': 0.5346568038816152, 'VectorExtremaCosineSimilarity': -0.3457659498059595}, {'EmbeddingAverageCosineSimilairty': -0.4451163026848218, 'GreedyMatchingScore': 0.559820141347046, 'VectorExtremaCosineSimilarity': -0.3129734846997117}]\n",
      "\n",
      "Scored Reports 320 / 374\n",
      "[{'EmbeddingAverageCosineSimilairty': -0.0604772096382902, 'GreedyMatchingScore': 0.6262521687975815, 'VectorExtremaCosineSimilarity': -0.35622904401375144}, {'EmbeddingAverageCosineSimilairty': -0.3656596352960231, 'GreedyMatchingScore': 0.5391872049579833, 'VectorExtremaCosineSimilarity': -0.3624527049652423}, {'EmbeddingAverageCosineSimilairty': -0.45861723908715885, 'GreedyMatchingScore': 0.5332477872611722, 'VectorExtremaCosineSimilarity': -0.3457590013073189}, {'EmbeddingAverageCosineSimilairty': -0.44714743251714956, 'GreedyMatchingScore': 0.5591616160388432, 'VectorExtremaCosineSimilarity': -0.3128023750797827}]\n",
      "\n",
      "Error! ['LESION_TYPE MASS SHAPE OVAL MARGINS ILL_DEFINED'], []\n"
     ]
    },
    {
     "name": "stdout",
     "output_type": "stream",
     "text": [
      "Error! ['LESION_TYPE CALCIFICATION TYPE PLEOMORPHIC DISTRIBUTION CLUSTERED'], []\n",
      "Scored Reports 330 / 374\n",
      "[{'EmbeddingAverageCosineSimilairty': -0.0632882220650436, 'GreedyMatchingScore': 0.6242941672290672, 'VectorExtremaCosineSimilarity': -0.3579132452339213}, {'EmbeddingAverageCosineSimilairty': -0.35720523131516446, 'GreedyMatchingScore': 0.5416125860920562, 'VectorExtremaCosineSimilarity': -0.36445889727736575}, {'EmbeddingAverageCosineSimilairty': -0.45427330811500033, 'GreedyMatchingScore': 0.5341516117767295, 'VectorExtremaCosineSimilarity': -0.3462768804258511}, {'EmbeddingAverageCosineSimilairty': -0.4483072666783144, 'GreedyMatchingScore': 0.5590688440015332, 'VectorExtremaCosineSimilarity': -0.31280915340087634}]\n",
      "\n",
      "Error! ['LESION_TYPE MASS SHAPE ASYMMETRIC_BREAST_TISSUE MARGINS N/A'], []\n",
      "Error! ['LESION_TYPE MASS SHAPE OVAL MARGINS MICROLOBULATED'], []\n",
      "Scored Reports 340 / 374\n",
      "[{'EmbeddingAverageCosineSimilairty': -0.06169776984151371, 'GreedyMatchingScore': 0.625171995164964, 'VectorExtremaCosineSimilarity': -0.36214138819251646}, {'EmbeddingAverageCosineSimilairty': -0.3604828010596439, 'GreedyMatchingScore': 0.5407149307261137, 'VectorExtremaCosineSimilarity': -0.3646645636103231}, {'EmbeddingAverageCosineSimilairty': -0.4515713901908884, 'GreedyMatchingScore': 0.5347175962539972, 'VectorExtremaCosineSimilarity': -0.3455404906160564}, {'EmbeddingAverageCosineSimilairty': -0.44681563667062535, 'GreedyMatchingScore': 0.559096265667068, 'VectorExtremaCosineSimilarity': -0.31231743270971013}]\n",
      "\n",
      "Scored Reports 350 / 374\n",
      "[{'EmbeddingAverageCosineSimilairty': -0.0651656725462469, 'GreedyMatchingScore': 0.6238351913937003, 'VectorExtremaCosineSimilarity': -0.36547205560286805}, {'EmbeddingAverageCosineSimilairty': -0.3604757998036553, 'GreedyMatchingScore': 0.5410619707186293, 'VectorExtremaCosineSimilarity': -0.3655248628417467}, {'EmbeddingAverageCosineSimilairty': -0.45066049896629323, 'GreedyMatchingScore': 0.5352898555757553, 'VectorExtremaCosineSimilarity': -0.3465751592885055}, {'EmbeddingAverageCosineSimilairty': -0.4472683717227225, 'GreedyMatchingScore': 0.5589728148550883, 'VectorExtremaCosineSimilarity': -0.312869953941083}]\n",
      "\n",
      "Error! ['LESION_TYPE CALCIFICATION TYPE PLEOMORPHIC DISTRIBUTION CLUSTERED'], []\n",
      "Error! ['LESION_TYPE CALCIFICATION TYPE PLEOMORPHIC DISTRIBUTION CLUSTERED'], []\n",
      "Error! ['LESION_TYPE MASS SHAPE LOBULATED MARGINS MICROLOBULATED'], []\n",
      "Scored Reports 360 / 374\n",
      "[{'EmbeddingAverageCosineSimilairty': -0.06370870811461463, 'GreedyMatchingScore': 0.6246945784841892, 'VectorExtremaCosineSimilarity': -0.3646128684840668}, {'EmbeddingAverageCosineSimilairty': -0.3618881601298151, 'GreedyMatchingScore': 0.5409505383729976, 'VectorExtremaCosineSimilarity': -0.36552157882494424}, {'EmbeddingAverageCosineSimilairty': -0.44802837554514185, 'GreedyMatchingScore': 0.53595635582049, 'VectorExtremaCosineSimilarity': -0.3467944289245951}, {'EmbeddingAverageCosineSimilairty': -0.44745387581177987, 'GreedyMatchingScore': 0.5587021904705164, 'VectorExtremaCosineSimilarity': -0.31274350092085307}]\n",
      "\n",
      "Error! ['LESION_TYPE MASS SHAPE IRREGULAR MARGINS ILL_DEFINED'], []\n",
      "Scored Reports 370 / 374\n",
      "[{'EmbeddingAverageCosineSimilairty': -0.061313251129469816, 'GreedyMatchingScore': 0.6261370689905613, 'VectorExtremaCosineSimilarity': -0.36813583526309746}, {'EmbeddingAverageCosineSimilairty': -0.3583359249789471, 'GreedyMatchingScore': 0.5418178353647075, 'VectorExtremaCosineSimilarity': -0.3665264384684313}, {'EmbeddingAverageCosineSimilairty': -0.45070848907917793, 'GreedyMatchingScore': 0.5350386440739665, 'VectorExtremaCosineSimilarity': -0.34670998143238524}, {'EmbeddingAverageCosineSimilairty': -0.44944555706776707, 'GreedyMatchingScore': 0.5584185313624578, 'VectorExtremaCosineSimilarity': -0.31305345385285105}]\n",
      "\n",
      "Error! ['LESION_TYPE CALCIFICATION TYPE PLEOMORPHIC DISTRIBUTION CLUSTERED'], []\n"
     ]
    }
   ],
   "source": [
    "# Randomized baseline\n",
    "from random import shuffle\n",
    "metrics = {}\n",
    "rand_inds = range(len(predicted_reports.keys()))\n",
    "shuffle(rand_inds)\n",
    "for ind, image_name in enumerate(predicted_reports.keys()):\n",
    "    metrics[image_name] = []\n",
    "    ind2 = 0\n",
    "    for gt, pred_orig in predicted_reports[image_name]:\n",
    "        rind = rand_inds[ind]       \n",
    "        _, pred = predicted_reports[predicted_reports.keys()[rind]][ind2]\n",
    "        try:\n",
    "            metrics_dict = compute_individual_metrics(' '.join(gt), ' '+' '.join(pred), no_overlap=True,\n",
    "                                                      no_skipthoughts=True, no_glove=False)\n",
    "        except:\n",
    "            print 'Error! {}, {}'.format(gt, pred)\n",
    "        metrics[image_name].append(metrics_dict)\n",
    "        ind2 +=1 \n",
    "        \n",
    "    if ind%10 == 0:\n",
    "        print 'Scored Reports {} / {}'.format(ind, len(predicted_reports.keys()))\n",
    "        print avg_scores(metrics)\n",
    "        print ''"
   ]
  },
  {
   "cell_type": "code",
   "execution_count": null,
   "metadata": {},
   "outputs": [],
   "source": [
    "# Greedy Matching score for random unit report with GT report\n",
    "print avg_scores(metrics)"
   ]
  }
 ],
 "metadata": {
  "kernelspec": {
   "display_name": "Python 3",
   "language": "python",
   "name": "python3"
  },
  "language_info": {
   "codemirror_mode": {
    "name": "ipython",
    "version": 3
   },
   "file_extension": ".py",
   "mimetype": "text/x-python",
   "name": "python",
   "nbconvert_exporter": "python",
   "pygments_lexer": "ipython3",
   "version": "3.6.5"
  }
 },
 "nbformat": 4,
 "nbformat_minor": 2
}
